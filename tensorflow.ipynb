{
 "cells": [
  {
   "cell_type": "code",
   "execution_count": 3,
   "metadata": {
    "collapsed": false
   },
   "outputs": [
    {
     "name": "stdout",
     "output_type": "stream",
     "text": [
      "Hello\n",
      "1.0.0-rc0\n"
     ]
    }
   ],
   "source": [
    "import tensorflow as tf\n",
    "\n",
    "hello = tf.constant('Hello')\n",
    "sess = tf.Session()\n",
    "print sess.run(hello)\n",
    "version = tf.VERSION\n",
    "print version"
   ]
  },
  {
   "cell_type": "code",
   "execution_count": 12,
   "metadata": {
    "collapsed": false
   },
   "outputs": [
    {
     "name": "stdout",
     "output_type": "stream",
     "text": [
      "Tensor(\"Const_10:0\", shape=(3, 2), dtype=int32)\n",
      "[[1 2]\n",
      " [3 4]\n",
      " [5 6]]\n"
     ]
    }
   ],
   "source": [
    "const_a = tf.constant([1,2,3,4,5,6], shape=(3,2))\n",
    "print const_a\n",
    "\n",
    "sess = tf.Session()\n",
    "result_a = sess.run(const_a)\n",
    "print result_a"
   ]
  },
  {
   "cell_type": "code",
   "execution_count": 21,
   "metadata": {
    "collapsed": false
   },
   "outputs": [
    {
     "name": "stdout",
     "output_type": "stream",
     "text": [
      "Tensor(\"Variable_7/read:0\", shape=(2, 2), dtype=int32)\n",
      "[[1 1]\n",
      " [2 2]]\n"
     ]
    }
   ],
   "source": [
    "variable_a = tf.Variable([[1,1], [2,2]])\n",
    "print variable_a\n",
    "\n",
    "sess = tf.Session()\n",
    "sess.run(variable_a.initializer)\n",
    "\n",
    "result_a = sess.run(variable_a)\n",
    "print result_a"
   ]
  },
  {
   "cell_type": "code",
   "execution_count": 41,
   "metadata": {
    "collapsed": false
   },
   "outputs": [
    {
     "name": "stdout",
     "output_type": "stream",
     "text": [
      "5\n"
     ]
    }
   ],
   "source": [
    "ph_a = tf.placeholder(tf.int16)\n",
    "ph_b = tf.placeholder(tf.int16)\n",
    "\n",
    "add_op = tf.add(ph_a, ph_b)\n",
    "\n",
    "sess = tf.Session()\n",
    "result_a = sess.run(add_op, feed_dict={ph_a:2, ph_b:3})\n",
    "print result_a"
   ]
  },
  {
   "cell_type": "code",
   "execution_count": 31,
   "metadata": {
    "collapsed": false
   },
   "outputs": [
    {
     "name": "stdout",
     "output_type": "stream",
     "text": [
      "[[ 0.26732964  1.12486039  1.39583735]\n",
      " [-0.33755196  0.7850476  -0.47840519]\n",
      " [ 1.49734985 -0.43131873  2.29519322]]\n",
      "<dtype: 'float64'>\n",
      "[3 3]\n",
      "2\n",
      "9\n"
     ]
    }
   ],
   "source": [
    "import numpy as np\n",
    "x_data = np.random.randn(3,3)\n",
    "x = tf.constant(x_data, shape=(3,3))\n",
    "\n",
    "sess = tf.Session()\n",
    "\n",
    "print sess.run(x)\n",
    "print x.dtype\n",
    "print sess.run(tf.shape(x))\n",
    "print sess.run(tf.rank(x))\n",
    "print sess.run(tf.size(x))"
   ]
  },
  {
   "cell_type": "code",
   "execution_count": 44,
   "metadata": {
    "collapsed": false
   },
   "outputs": [
    {
     "name": "stdout",
     "output_type": "stream",
     "text": [
      "[[1 2]\n",
      " [3 4]]\n",
      "[[11 12]\n",
      " [13 14]]\n",
      "[[ 12.  14.]\n",
      " [ 16.  18.]]\n"
     ]
    }
   ],
   "source": [
    "x = tf.placeholder(tf.float32, shape=(2,2))\n",
    "y = tf.placeholder(tf.float32, shape=(2,2))\n",
    "\n",
    "mat_a = np.arange(1,5).reshape(2,2)\n",
    "print mat_a\n",
    "mat_b = np.arange(11,15).reshape(2,2)\n",
    "print mat_b\n",
    "\n",
    "add_op = tf.add(x, y)\n",
    "sess = tf.Session()\n",
    "\n",
    "\n",
    "result_mat = sess.run(add_op, feed_dict={x:mat_a, y:mat_b})\n",
    "print result_mat"
   ]
  },
  {
   "cell_type": "code",
   "execution_count": 46,
   "metadata": {
    "collapsed": false
   },
   "outputs": [
    {
     "name": "stdout",
     "output_type": "stream",
     "text": [
      "[[-10. -10.]\n",
      " [-10. -10.]]\n"
     ]
    }
   ],
   "source": [
    "sub_op = tf.subtract(x, y)\n",
    "\n",
    "result_mat = sess.run(sub_op, feed_dict={x:mat_a, y:mat_b})\n",
    "print result_mat"
   ]
  },
  {
   "cell_type": "code",
   "execution_count": 47,
   "metadata": {
    "collapsed": false
   },
   "outputs": [
    {
     "name": "stdout",
     "output_type": "stream",
     "text": [
      "[[ 37.  40.]\n",
      " [ 85.  92.]]\n"
     ]
    }
   ],
   "source": [
    "matmul_op = tf.matmul(x, y)\n",
    "\n",
    "result_mat = sess.run(matmul_op, feed_dict={x:mat_a, y:mat_b})\n",
    "print result_mat"
   ]
  },
  {
   "cell_type": "code",
   "execution_count": 48,
   "metadata": {
    "collapsed": false
   },
   "outputs": [
    {
     "name": "stdout",
     "output_type": "stream",
     "text": [
      "[[ 11.  24.]\n",
      " [ 39.  56.]]\n"
     ]
    }
   ],
   "source": [
    "mul_op = tf.multiply(x, y)\n",
    "result_mat = sess.run(mul_op, feed_dict={x:mat_a, y:mat_b})\n",
    "print result_mat"
   ]
  },
  {
   "cell_type": "code",
   "execution_count": 57,
   "metadata": {
    "collapsed": false
   },
   "outputs": [
    {
     "name": "stdout",
     "output_type": "stream",
     "text": [
      "Tensor(\"Sum_13:0\", shape=(), dtype=float32)\n",
      "Tensor(\"Sum_14:0\", shape=(2,), dtype=float32)\n",
      "[[ 1.  2.]\n",
      " [ 3.  4.]]\n",
      "10.0\n",
      "[ 4.  6.]\n"
     ]
    }
   ],
   "source": [
    "x_data = np.arange(1,5).reshape(2,2)\n",
    "x = tf.placeholder(tf.float32, shape=(2,2))\n",
    "a1 = tf.reduce_sum(x)\n",
    "print a1\n",
    "a2 = tf.reduce_sum(x, 0)\n",
    "print a2\n",
    "a3 = tf.reduce_sum(x, 1)\n",
    "sess = tf.Session()\n",
    "print sess.run(x, feed_dict={x:x_data})\n",
    "print sess.run(tf.reduce_sum(x), feed_dict={x:x_data})\n",
    "print sess.run(tf.reduce_sum(x, 0), feed_dict={x:x_data})"
   ]
  },
  {
   "cell_type": "code",
   "execution_count": 63,
   "metadata": {
    "collapsed": false
   },
   "outputs": [
    {
     "name": "stdout",
     "output_type": "stream",
     "text": [
      "Tensor(\"Const_31:0\", shape=(4, 4), dtype=float32)\n",
      "[[ 96.  35.  47.  73.]\n",
      " [ 98.  79.  89.  46.]\n",
      " [ 14.  20.  22.  66.]\n",
      " [ 76.  32.  28.  23.]]\n",
      "[1 3 0 3]\n",
      "[0 0 3 0]\n"
     ]
    }
   ],
   "source": [
    "data_a = np.random.randint(0, 100, (4,4))\n",
    "const_a = tf.constant(data_a, dtype=tf.float32)\n",
    "print const_a\n",
    "\n",
    "argmin_op = tf.argmin(const_a, 1)\n",
    "argmax_op = tf.argmax(const_a, 1)\n",
    "\n",
    "# print sess.run(tf.argmin(x, 1), feed_dict={x: const_a})\n",
    "with tf.Session() as sess:\n",
    "  c, min, max = sess.run([const_a, argmin_op, argmax_op])\n",
    "  print c\n",
    "  print min\n",
    "  print max"
   ]
  },
  {
   "cell_type": "code",
   "execution_count": 65,
   "metadata": {
    "collapsed": false
   },
   "outputs": [
    {
     "name": "stdout",
     "output_type": "stream",
     "text": [
      "[[ 0.    0.25]\n",
      " [ 0.5   1.  ]]\n",
      "[[  1.00000001e-10   2.50000000e-01]\n",
      " [  5.00000000e-01   1.00000000e+00]]\n"
     ]
    }
   ],
   "source": [
    "sess = tf.Session()\n",
    "p = tf.constant([[0,0.25], [0.5,1]], dtype=tf.float32, shape=(2,2))\n",
    "value = tf.clip_by_value(p, 1e-10, 1.0)\n",
    "\n",
    "print p.eval(session=sess)\n",
    "print value.eval(session=sess)"
   ]
  },
  {
   "cell_type": "code",
   "execution_count": 68,
   "metadata": {
    "collapsed": false
   },
   "outputs": [
    {
     "name": "stdout",
     "output_type": "stream",
     "text": [
      "[[ 0.    0.25]\n",
      " [ 0.5   1.  ]]\n",
      "[[  1.00000001e-10   2.50000000e-01]\n",
      " [  5.00000000e-01   1.00000000e+00]]\n"
     ]
    }
   ],
   "source": [
    "with tf.Session() as sess:\n",
    "  p = tf.constant([[0,0.25], [0.5,1]], dtype=tf.float32, shape=(2,2))\n",
    "  value = tf.clip_by_value(p, 1e-10, 1.0)\n",
    "  print p.eval()\n",
    "  print value.eval()"
   ]
  },
  {
   "cell_type": "code",
   "execution_count": 70,
   "metadata": {
    "collapsed": false
   },
   "outputs": [
    {
     "name": "stdout",
     "output_type": "stream",
     "text": [
      "[[-0.32886976  0.27431205  1.88274431]\n",
      " [ 0.91664433  0.49180195  0.74493301]\n",
      " [ 0.06930567 -0.82327598 -3.85011458]]\n",
      "[[ 0.93285948  0.09490342  0.50563556]\n",
      " [-1.0839386   0.55333292  0.29688841]\n",
      " [-0.34754691 -0.31674221 -0.46129054]]\n"
     ]
    }
   ],
   "source": [
    "x = tf.random_normal(shape=(3,3))\n",
    "sess = tf.Session()\n",
    "y = sess.run(x)\n",
    "print y\n",
    "\n",
    "print sess.run(tf.random_normal(shape=(3,3)))"
   ]
  },
  {
   "cell_type": "code",
   "execution_count": 72,
   "metadata": {
    "collapsed": false
   },
   "outputs": [
    {
     "name": "stdout",
     "output_type": "stream",
     "text": [
      "0.00555553\n",
      "0.994795\n"
     ]
    }
   ],
   "source": [
    "x = tf.random_normal(shape=(5000,2))\n",
    "\n",
    "sess = tf.Session()\n",
    "y = sess.run(x)\n",
    "print np.average(y)\n",
    "print np.std(y)"
   ]
  },
  {
   "cell_type": "code",
   "execution_count": null,
   "metadata": {
    "collapsed": true
   },
   "outputs": [],
   "source": []
  }
 ],
 "metadata": {
  "kernelspec": {
   "display_name": "Python 2",
   "language": "python",
   "name": "python2"
  },
  "language_info": {
   "codemirror_mode": {
    "name": "ipython",
    "version": 2
   },
   "file_extension": ".py",
   "mimetype": "text/x-python",
   "name": "python",
   "nbconvert_exporter": "python",
   "pygments_lexer": "ipython2",
   "version": "2.7.9"
  }
 },
 "nbformat": 4,
 "nbformat_minor": 2
}
