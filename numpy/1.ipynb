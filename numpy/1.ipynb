{
 "cells": [
  {
   "cell_type": "code",
   "execution_count": 5,
   "metadata": {
    "collapsed": false
   },
   "outputs": [
    {
     "name": "stdout",
     "output_type": "stream",
     "text": [
      "[ 1  5 10  4 11 22 21 11 10  1]\n",
      "[[ 1  5 10  4 11]\n",
      " [22 21 11 10  1]]\n"
     ]
    }
   ],
   "source": [
    "import numpy as np\n",
    "arr = np.array([1,5,10,4,11,22,21,11,10,1])\n",
    "print arr\n",
    "\n",
    "mat = arr.reshape([2,5])\n",
    "\n",
    "print mat"
   ]
  },
  {
   "cell_type": "code",
   "execution_count": 6,
   "metadata": {
    "collapsed": false
   },
   "outputs": [
    {
     "name": "stdout",
     "output_type": "stream",
     "text": [
      "[[ 0.  0.]\n",
      " [ 0.  0.]\n",
      " [ 0.  0.]]\n"
     ]
    }
   ],
   "source": [
    "import numpy as np\n",
    "\n",
    "mat = np.zeros([3,2])\n",
    "print mat"
   ]
  },
  {
   "cell_type": "code",
   "execution_count": 15,
   "metadata": {
    "collapsed": false
   },
   "outputs": [
    {
     "name": "stdout",
     "output_type": "stream",
     "text": [
      "[[0 0]\n",
      " [0 0]\n",
      " [0 0]\n",
      " [0 0]\n",
      " [0 0]]\n"
     ]
    }
   ],
   "source": [
    "arr = np.array([0] * 10).reshape([5,2])\n",
    "print arr"
   ]
  },
  {
   "cell_type": "code",
   "execution_count": 19,
   "metadata": {
    "collapsed": false
   },
   "outputs": [
    {
     "data": {
      "text/plain": [
       "array([[ 1.24407453,  1.64963328],\n",
       "       [ 1.64504786,  0.40711333],\n",
       "       [ 1.57616408, -0.57250624],\n",
       "       [ 1.42898842, -2.35601806],\n",
       "       [ 0.79335637,  0.52080354],\n",
       "       [-0.30421392, -0.59812304],\n",
       "       [ 1.91206783,  0.61393018],\n",
       "       [-1.55222511, -1.11941184],\n",
       "       [ 0.76039496,  0.90885247],\n",
       "       [-1.11305996,  0.67146076]])"
      ]
     },
     "execution_count": 19,
     "metadata": {},
     "output_type": "execute_result"
    }
   ],
   "source": [
    "np.random.randn(10,2)"
   ]
  },
  {
   "cell_type": "code",
   "execution_count": 25,
   "metadata": {
    "collapsed": false
   },
   "outputs": [
    {
     "name": "stdout",
     "output_type": "stream",
     "text": [
      "[[  3.   2.]\n",
      " [ 10.   5.]]\n",
      "[[ 1.  0.]\n",
      " [-2. -1.]]\n",
      "[[  8.   5.]\n",
      " [ 16.  10.]]\n",
      "[[ 36.  18.]\n",
      " [ 72.  36.]]\n"
     ]
    }
   ],
   "source": [
    "a = np.array([[2.0, 1.0], [4.0, 2.0]])\n",
    "b = np.array([[1.0, 1.0], [6.0, 3.0]])\n",
    "print a + b\n",
    "print a - b\n",
    "\n",
    "print np.dot(a,b)\n",
    "\n",
    "print a.dot(b).dot(a)"
   ]
  },
  {
   "cell_type": "code",
   "execution_count": 29,
   "metadata": {
    "collapsed": false
   },
   "outputs": [
    {
     "name": "stdout",
     "output_type": "stream",
     "text": [
      "[[ 0.061722   -0.57419489]\n",
      " [-0.22935131  0.96591975]\n",
      " [ 0.26623205  0.43955315]\n",
      " [ 0.29570751  1.38297576]\n",
      " [-0.48006958 -0.25572763]\n",
      " [ 0.53592532 -0.15575423]\n",
      " [-1.35626278 -0.78728757]\n",
      " [ 0.19937479  1.08232194]\n",
      " [-1.27044623  0.30786437]\n",
      " [-0.1061809   0.57807686]]\n"
     ]
    }
   ],
   "source": [
    "np.random.seed(20200724)\n",
    "X = np.random.randn(10,2)\n",
    "print X"
   ]
  },
  {
   "cell_type": "code",
   "execution_count": 40,
   "metadata": {
    "collapsed": false
   },
   "outputs": [
    {
     "name": "stdout",
     "output_type": "stream",
     "text": [
      "[9 8 7 6 5 4 3 2 1 0]\n",
      "[4 5 6 7 8 9]\n",
      "[0 1 2 3 4 5 6]\n",
      "[4 5 6]\n",
      "[1 3 5 7]\n"
     ]
    }
   ],
   "source": [
    "X = np.arange(10)\n",
    "\n",
    "# print X[:]\n",
    "print X[::-1]\n",
    "print X[4:]\n",
    "print X[:7]\n",
    "print X[4:7]\n",
    "print X[1:8:2]"
   ]
  },
  {
   "cell_type": "code",
   "execution_count": 50,
   "metadata": {
    "collapsed": false
   },
   "outputs": [
    {
     "name": "stdout",
     "output_type": "stream",
     "text": [
      "[ 1.23033735  1.40321851  0.09751056  0.31943049  0.07162876 -0.06184967\n",
      " -1.02262615 -0.46366925 -0.18000379 -1.18701191]\n",
      "[ True  True  True  True  True False False False False False]\n",
      "[ 1.23033735  1.40321851  0.09751056  0.31943049  0.07162876]\n",
      "[ 1.23033735  1.40321851  0.09751056  0.31943049  0.07162876]\n"
     ]
    }
   ],
   "source": [
    "x = np.random.randn(10)\n",
    "print x\n",
    "\n",
    "mask = x >= 0.0\n",
    "print mask\n",
    "\n",
    "print x[mask]\n",
    "\n",
    "print x[x >= 0]"
   ]
  },
  {
   "cell_type": "code",
   "execution_count": 53,
   "metadata": {
    "collapsed": false
   },
   "outputs": [
    {
     "name": "stdout",
     "output_type": "stream",
     "text": [
      "[[0 1 2]\n",
      " [3 4 5]\n",
      " [6 7 8]]\n",
      "[[0 3 6]\n",
      " [1 4 7]\n",
      " [2 5 8]]\n"
     ]
    }
   ],
   "source": [
    "x = np.arange(9).reshape(3,3)\n",
    "print x\n",
    "\n",
    "print x.T"
   ]
  },
  {
   "cell_type": "code",
   "execution_count": 59,
   "metadata": {
    "collapsed": false
   },
   "outputs": [
    {
     "name": "stdout",
     "output_type": "stream",
     "text": [
      "[[ 1.19036889  1.02433084  0.36317407]\n",
      " [ 0.16052037  1.17757244  0.28948327]\n",
      " [ 0.50420148  1.54925218 -0.75115675]]\n"
     ]
    }
   ],
   "source": [
    "x = np.random.randn(3, 3)\n",
    "print x\n",
    "\n",
    "np.save('random.npy', x)\n"
   ]
  },
  {
   "cell_type": "code",
   "execution_count": 62,
   "metadata": {
    "collapsed": false
   },
   "outputs": [
    {
     "name": "stdout",
     "output_type": "stream",
     "text": [
      "[[ 1.19036889  1.02433084  0.36317407]\n",
      " [ 0.16052037  1.17757244  0.28948327]\n",
      " [ 0.50420148  1.54925218 -0.75115675]]\n"
     ]
    }
   ],
   "source": [
    "y = np.load('random.npy')\n",
    "print y"
   ]
  },
  {
   "cell_type": "code",
   "execution_count": 66,
   "metadata": {
    "collapsed": false
   },
   "outputs": [
    {
     "name": "stdout",
     "output_type": "stream",
     "text": [
      "[[  2.00000000e-01   3.39800000e+00   5.92000000e+02]\n",
      " [  1.30000000e+00   8.30000000e-01   8.80000000e+00]]\n"
     ]
    },
    {
     "ename": "TypeError",
     "evalue": "savetxt() got an unexpected keyword argument 'delimit'",
     "output_type": "error",
     "traceback": [
      "\u001b[0;31m\u001b[0m",
      "\u001b[0;31mTypeError\u001b[0mTraceback (most recent call last)",
      "\u001b[0;32m<ipython-input-66-ea0c3268623a>\u001b[0m in \u001b[0;36m<module>\u001b[0;34m()\u001b[0m\n\u001b[1;32m      3\u001b[0m \u001b[0;32mprint\u001b[0m \u001b[0mx\u001b[0m\u001b[0;34m\u001b[0m\u001b[0m\n\u001b[1;32m      4\u001b[0m \u001b[0;34m\u001b[0m\u001b[0m\n\u001b[0;32m----> 5\u001b[0;31m \u001b[0mnp\u001b[0m\u001b[0;34m.\u001b[0m\u001b[0msavetxt\u001b[0m\u001b[0;34m(\u001b[0m\u001b[0;34m'foo.csv'\u001b[0m\u001b[0;34m,\u001b[0m \u001b[0mx\u001b[0m\u001b[0;34m,\u001b[0m \u001b[0mdelimit\u001b[0m\u001b[0;34m=\u001b[0m\u001b[0;34m','\u001b[0m\u001b[0;34m)\u001b[0m\u001b[0;34m\u001b[0m\u001b[0m\n\u001b[0m",
      "\u001b[0;31mTypeError\u001b[0m: savetxt() got an unexpected keyword argument 'delimit'"
     ]
    }
   ],
   "source": [
    "x = np.loadtxt('hoge.csv', delimiter=',')\n",
    "\n",
    "print x\n",
    "\n",
    "np.savetxt('foo.csv', x, delimit=',')\n"
   ]
  },
  {
   "cell_type": "code",
   "execution_count": 79,
   "metadata": {
    "collapsed": false
   },
   "outputs": [
    {
     "name": "stdout",
     "output_type": "stream",
     "text": [
      "[[  6.95345417e-01   3.55470041e-01   9.06984070e-04]\n",
      " [  3.12525860e-01  -1.02148466e+00   4.43637916e-01]\n",
      " [  2.66057539e-01  -7.34925701e-01   9.76428046e-01]]\n",
      "float64\n",
      "(3, 3)\n",
      "9\n",
      "[[[0 1]\n",
      "  [2 3]]\n",
      "\n",
      " [[4 5]\n",
      "  [6 7]]]\n",
      "int64\n",
      "8\n"
     ]
    }
   ],
   "source": [
    "x = np.random.randn(3, 3)\n",
    "print x\n",
    "\n",
    "print x.dtype\n",
    "print x.shape\n",
    "print x.size\n",
    "y = np.arange(8).reshape(2,2,2)\n",
    "print y\n",
    "print y.dtype\n",
    "print y.size"
   ]
  },
  {
   "cell_type": "code",
   "execution_count": 88,
   "metadata": {
    "collapsed": false
   },
   "outputs": [
    {
     "name": "stdout",
     "output_type": "stream",
     "text": [
      "[[0 1 2]\n",
      " [3 4 5]\n",
      " [6 7 8]]\n",
      "[ 1.  4.  7.]\n",
      "[ 3.  4.  5.]\n"
     ]
    }
   ],
   "source": [
    "x = np.arange(9).reshape(3,3)\n",
    "print x\n",
    "print x.mean(1)\n",
    "print x.mean(0)"
   ]
  },
  {
   "cell_type": "code",
   "execution_count": 94,
   "metadata": {
    "collapsed": false
   },
   "outputs": [
    {
     "name": "stdout",
     "output_type": "stream",
     "text": [
      "[[ 1  2  3  4]\n",
      " [ 5  6  7  8]\n",
      " [ 9 10 11 12]\n",
      " [13 14 15 16]]\n",
      "[[ 2  3  4  5]\n",
      " [ 6  7  8  9]\n",
      " [10 11 12 13]\n",
      " [14 15 16 17]]\n",
      "[[ 2  3  4  5]\n",
      " [ 6  7  8  9]\n",
      " [10 11 12 13]\n",
      " [14 15 16 17]]\n",
      "[[ -1  -2  -3  -4]\n",
      " [ -5  -6  -7  -8]\n",
      " [ -9 -10 -11 -12]\n",
      " [-13 -14 -15 -16]]\n",
      "[[  1   4   9  16]\n",
      " [ 25  36  49  64]\n",
      " [ 81 100 121 144]\n",
      " [169 196 225 256]]\n"
     ]
    }
   ],
   "source": [
    "x = np.arange(1, 17).reshape(4, 4)\n",
    "print x\n",
    "print np.add(x, 1)\n",
    "\n",
    "print x+1\n",
    "print np.negative(x)\n",
    "\n",
    "print np.power(x, 2)"
   ]
  },
  {
   "cell_type": "code",
   "execution_count": 107,
   "metadata": {
    "collapsed": false
   },
   "outputs": [
    {
     "name": "stdout",
     "output_type": "stream",
     "text": [
      "[33  2 70 96  3 70 21 89 23 12]\n",
      "[[10 36 33  3]\n",
      " [72 73 27 83]\n",
      " [28 45 36 16]\n",
      " [90 89 41 42]]\n",
      "[ 2  3 12 21 23 33 70 70 89 96]\n",
      "[[10 36 33  3]\n",
      " [72 73 27 83]\n",
      " [28 45 36 16]\n",
      " [90 89 41 42]]\n",
      "[[ 3 10 33 36]\n",
      " [27 72 73 83]\n",
      " [16 28 36 45]\n",
      " [41 42 89 90]]\n"
     ]
    }
   ],
   "source": [
    "x = np.random.randint(0, 100, 10)\n",
    "print x\n",
    "y = np.random.randint(0, 100, (4,4))\n",
    "print y\n",
    "\n",
    "x.sort()\n",
    "print x\n",
    "# np.sort(x)\n",
    "\n",
    "y1 = np.array(y)\n",
    "y2 = np.array(y)\n",
    "print y1\n",
    "y1.sort(1)\n",
    "print y1"
   ]
  },
  {
   "cell_type": "code",
   "execution_count": 120,
   "metadata": {
    "collapsed": false
   },
   "outputs": [
    {
     "name": "stdout",
     "output_type": "stream",
     "text": [
      "[1 0 3 1 3 1 2 0 1 3]\n",
      "[0 1 2 3]\n",
      "[0 1 2 3 4]\n",
      "[3 4 5 6 7]\n",
      "[3 4]\n",
      "[0 1 2 3 4 5 6 7]\n",
      "[0 1 2 5 6 7]\n",
      "[False False False  True  True]\n"
     ]
    }
   ],
   "source": [
    "np.random.seed(20200724)\n",
    "x = np.random.randint(0, 4, 10)\n",
    "print x\n",
    "\n",
    "print np.unique(x)\n",
    "\n",
    "a = np.arange(5)\n",
    "b = np.arange(3,8)\n",
    "print a\n",
    "print b\n",
    "\n",
    "print np.intersect1d(a, b)\n",
    "print np.union1d(a, b)\n",
    "print np.setxor1d(a,b)\n",
    "print np.in1d(a, b)"
   ]
  },
  {
   "cell_type": "code",
   "execution_count": 129,
   "metadata": {
    "collapsed": false
   },
   "outputs": [
    {
     "name": "stdout",
     "output_type": "stream",
     "text": [
      "[1 2 3]\n",
      "3.74165738677\n",
      "[[1 0 0]\n",
      " [0 2 0]\n",
      " [0 0 3]]\n",
      "6.0\n",
      "[[ 1.          0.          0.        ]\n",
      " [ 0.          0.5         0.        ]\n",
      " [ 0.          0.          0.33333333]]\n",
      "[[ 1.  0.  0.]\n",
      " [ 0.  1.  0.]\n",
      " [ 0.  0.  1.]]\n",
      "[[ 1.  0.  0.]\n",
      " [ 0.  2.  0.]\n",
      " [ 0.  0.  3.]]\n",
      "6\n",
      "(array([ 1.,  2.,  3.]), array([[ 1.,  0.,  0.],\n",
      "       [ 0.,  1.,  0.],\n",
      "       [ 0.,  0.,  1.]]))\n",
      "[[ 5.]\n",
      " [ 2.]\n",
      " [ 3.]]\n"
     ]
    }
   ],
   "source": [
    "x = np.arange(1, 4)\n",
    "print x\n",
    "print np.linalg.norm(x)\n",
    "diag_x = np.diag(x)\n",
    "print diag_x\n",
    "print np.linalg.det(diag_x)\n",
    "print np.linalg.inv(diag_x)\n",
    "\n",
    "e = np.eye(3)\n",
    "print e\n",
    "print np.dot(diag_x, e)\n",
    "print np.trace(diag_x)\n",
    "\n",
    "print np.linalg.eig(diag_x)\n",
    "\n",
    "a = np.array([[2,1,1], [4,6,3], [8,8,9]])\n",
    "b = np.array([[15], [41], [83]])\n",
    "print np.linalg.solve(a,b)"
   ]
  },
  {
   "cell_type": "code",
   "execution_count": 141,
   "metadata": {
    "collapsed": false
   },
   "outputs": [
    {
     "name": "stdout",
     "output_type": "stream",
     "text": [
      "[[3 3]\n",
      " [4 6]]\n",
      "[[-0.65598467 -1.48684248]\n",
      " [ 0.18254007 -2.144666  ]]\n",
      "[[ 0.79758514  0.15030161]\n",
      " [ 0.75776958  0.37781731]]\n",
      "[[ 0.30206992  3.68702533]\n",
      " [ 0.49593079  3.10366002]]\n"
     ]
    }
   ],
   "source": [
    "binomial = np.random.binomial(10, 0.5, (2,2))\n",
    "print binomial\n",
    "\n",
    "normal = np.random.normal(0,1, (2,2))\n",
    "print normal\n",
    "\n",
    "beta = np.random.beta(1, 1, (2,2))\n",
    "print beta\n",
    "\n",
    "chisquare = np.random.chisquare(1, (2,2))\n",
    "print chisquare"
   ]
  },
  {
   "cell_type": "code",
   "execution_count": 147,
   "metadata": {
    "collapsed": false
   },
   "outputs": [
    {
     "name": "stdout",
     "output_type": "stream",
     "text": [
      "[[0 7 9]\n",
      " [0 0 6]\n",
      " [4 5 6]]\n",
      "[[8 6 7]\n",
      " [7 0 7]\n",
      " [7 5 0]]\n",
      "[[0 7 9]\n",
      " [0 0 6]\n",
      " [4 5 6]\n",
      " [8 6 7]\n",
      " [7 0 7]\n",
      " [7 5 0]]\n",
      "[[[0 8]\n",
      "  [7 6]\n",
      "  [9 7]]\n",
      "\n",
      " [[0 7]\n",
      "  [0 0]\n",
      "  [6 7]]\n",
      "\n",
      " [[4 7]\n",
      "  [5 5]\n",
      "  [6 0]]]\n",
      "[[0 7 9]]\n"
     ]
    }
   ],
   "source": [
    "x = np.random.randint(0, 10, (3,3))\n",
    "y = np.random.randint(0, 10, (3,3))\n",
    "print x\n",
    "print y\n",
    "\n",
    "print np.concatenate((x,y), axis=0)\n",
    "\n",
    "print np.dstack((x,y))\n",
    "\n",
    "x1, x2, x3 = np.split(x, (1,2))\n",
    "print x1"
   ]
  },
  {
   "cell_type": "code",
   "execution_count": 151,
   "metadata": {
    "collapsed": false
   },
   "outputs": [
    {
     "name": "stdout",
     "output_type": "stream",
     "text": [
      "[[0 1 2]\n",
      " [3 4 5]\n",
      " [6 7 8]]\n",
      "[0 1 2 3 4 5 6 7 8]\n",
      "[0 1 2 3 4 5 6 7 8]\n"
     ]
    }
   ],
   "source": [
    "x = np.arange(9).reshape(3,3)\n",
    "print x\n",
    "\n",
    "print x.flatten()\n",
    "print x.ravel()"
   ]
  },
  {
   "cell_type": "code",
   "execution_count": 155,
   "metadata": {
    "collapsed": false
   },
   "outputs": [
    {
     "name": "stdout",
     "output_type": "stream",
     "text": [
      "[3 3 3 3 6 6 6 6 9 9 9 9]\n",
      "[7 2 4 7 2 4 7 2 4]\n",
      "[[7 2 4 7 2 4]\n",
      " [7 2 4 7 2 4]]\n"
     ]
    }
   ],
   "source": [
    "x = np.array([3,6,9]).repeat(4)\n",
    "print x\n",
    "y=np.tile([7,2,4], 3)\n",
    "print y\n",
    "\n",
    "z=np.tile([7,2,4], (2,2))\n",
    "print z\n",
    "\n"
   ]
  },
  {
   "cell_type": "code",
   "execution_count": null,
   "metadata": {
    "collapsed": true
   },
   "outputs": [],
   "source": []
  }
 ],
 "metadata": {
  "kernelspec": {
   "display_name": "Python 2",
   "language": "python",
   "name": "python2"
  },
  "language_info": {
   "codemirror_mode": {
    "name": "ipython",
    "version": 2
   },
   "file_extension": ".py",
   "mimetype": "text/x-python",
   "name": "python",
   "nbconvert_exporter": "python",
   "pygments_lexer": "ipython2",
   "version": "2.7.9"
  }
 },
 "nbformat": 4,
 "nbformat_minor": 2
}
