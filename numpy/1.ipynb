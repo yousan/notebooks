{
 "cells": [
  {
   "cell_type": "code",
   "execution_count": 5,
   "metadata": {
    "collapsed": false
   },
   "outputs": [
    {
     "name": "stdout",
     "output_type": "stream",
     "text": [
      "[ 1  5 10  4 11 22 21 11 10  1]\n",
      "[[ 1  5 10  4 11]\n",
      " [22 21 11 10  1]]\n"
     ]
    }
   ],
   "source": [
    "import numpy as np\n",
    "arr = np.array([1,5,10,4,11,22,21,11,10,1])\n",
    "print arr\n",
    "\n",
    "mat = arr.reshape([2,5])\n",
    "\n",
    "print mat"
   ]
  },
  {
   "cell_type": "code",
   "execution_count": 6,
   "metadata": {
    "collapsed": false
   },
   "outputs": [
    {
     "name": "stdout",
     "output_type": "stream",
     "text": [
      "[[ 0.  0.]\n",
      " [ 0.  0.]\n",
      " [ 0.  0.]]\n"
     ]
    }
   ],
   "source": [
    "import numpy as np\n",
    "\n",
    "mat = np.zeros([3,2])\n",
    "print mat"
   ]
  },
  {
   "cell_type": "code",
   "execution_count": 15,
   "metadata": {
    "collapsed": false
   },
   "outputs": [
    {
     "name": "stdout",
     "output_type": "stream",
     "text": [
      "[[0 0]\n",
      " [0 0]\n",
      " [0 0]\n",
      " [0 0]\n",
      " [0 0]]\n"
     ]
    }
   ],
   "source": [
    "arr = np.array([0] * 10).reshape([5,2])\n",
    "print arr"
   ]
  },
  {
   "cell_type": "code",
   "execution_count": 19,
   "metadata": {
    "collapsed": false
   },
   "outputs": [
    {
     "data": {
      "text/plain": [
       "array([[ 1.24407453,  1.64963328],\n",
       "       [ 1.64504786,  0.40711333],\n",
       "       [ 1.57616408, -0.57250624],\n",
       "       [ 1.42898842, -2.35601806],\n",
       "       [ 0.79335637,  0.52080354],\n",
       "       [-0.30421392, -0.59812304],\n",
       "       [ 1.91206783,  0.61393018],\n",
       "       [-1.55222511, -1.11941184],\n",
       "       [ 0.76039496,  0.90885247],\n",
       "       [-1.11305996,  0.67146076]])"
      ]
     },
     "execution_count": 19,
     "metadata": {},
     "output_type": "execute_result"
    }
   ],
   "source": [
    "np.random.randn(10,2)"
   ]
  },
  {
   "cell_type": "code",
   "execution_count": 25,
   "metadata": {
    "collapsed": false
   },
   "outputs": [
    {
     "name": "stdout",
     "output_type": "stream",
     "text": [
      "[[  3.   2.]\n",
      " [ 10.   5.]]\n",
      "[[ 1.  0.]\n",
      " [-2. -1.]]\n",
      "[[  8.   5.]\n",
      " [ 16.  10.]]\n",
      "[[ 36.  18.]\n",
      " [ 72.  36.]]\n"
     ]
    }
   ],
   "source": [
    "a = np.array([[2.0, 1.0], [4.0, 2.0]])\n",
    "b = np.array([[1.0, 1.0], [6.0, 3.0]])\n",
    "print a + b\n",
    "print a - b\n",
    "\n",
    "print np.dot(a,b)\n",
    "\n",
    "print a.dot(b).dot(a)"
   ]
  },
  {
   "cell_type": "code",
   "execution_count": 29,
   "metadata": {
    "collapsed": false
   },
   "outputs": [
    {
     "name": "stdout",
     "output_type": "stream",
     "text": [
      "[[ 0.061722   -0.57419489]\n",
      " [-0.22935131  0.96591975]\n",
      " [ 0.26623205  0.43955315]\n",
      " [ 0.29570751  1.38297576]\n",
      " [-0.48006958 -0.25572763]\n",
      " [ 0.53592532 -0.15575423]\n",
      " [-1.35626278 -0.78728757]\n",
      " [ 0.19937479  1.08232194]\n",
      " [-1.27044623  0.30786437]\n",
      " [-0.1061809   0.57807686]]\n"
     ]
    }
   ],
   "source": [
    "np.random.seed(20200724)\n",
    "X = np.random.randn(10,2)\n",
    "print X"
   ]
  },
  {
   "cell_type": "code",
   "execution_count": 40,
   "metadata": {
    "collapsed": false
   },
   "outputs": [
    {
     "name": "stdout",
     "output_type": "stream",
     "text": [
      "[9 8 7 6 5 4 3 2 1 0]\n",
      "[4 5 6 7 8 9]\n",
      "[0 1 2 3 4 5 6]\n",
      "[4 5 6]\n",
      "[1 3 5 7]\n"
     ]
    }
   ],
   "source": [
    "X = np.arange(10)\n",
    "\n",
    "# print X[:]\n",
    "print X[::-1]\n",
    "print X[4:]\n",
    "print X[:7]\n",
    "print X[4:7]\n",
    "print X[1:8:2]"
   ]
  },
  {
   "cell_type": "code",
   "execution_count": 50,
   "metadata": {
    "collapsed": false
   },
   "outputs": [
    {
     "name": "stdout",
     "output_type": "stream",
     "text": [
      "[ 1.23033735  1.40321851  0.09751056  0.31943049  0.07162876 -0.06184967\n",
      " -1.02262615 -0.46366925 -0.18000379 -1.18701191]\n",
      "[ True  True  True  True  True False False False False False]\n",
      "[ 1.23033735  1.40321851  0.09751056  0.31943049  0.07162876]\n",
      "[ 1.23033735  1.40321851  0.09751056  0.31943049  0.07162876]\n"
     ]
    }
   ],
   "source": [
    "x = np.random.randn(10)\n",
    "print x\n",
    "\n",
    "mask = x >= 0.0\n",
    "print mask\n",
    "\n",
    "print x[mask]\n",
    "\n",
    "print x[x >= 0]"
   ]
  },
  {
   "cell_type": "code",
   "execution_count": 53,
   "metadata": {
    "collapsed": false
   },
   "outputs": [
    {
     "name": "stdout",
     "output_type": "stream",
     "text": [
      "[[0 1 2]\n",
      " [3 4 5]\n",
      " [6 7 8]]\n",
      "[[0 3 6]\n",
      " [1 4 7]\n",
      " [2 5 8]]\n"
     ]
    }
   ],
   "source": [
    "x = np.arange(9).reshape(3,3)\n",
    "print x\n",
    "\n",
    "print x.T"
   ]
  },
  {
   "cell_type": "code",
   "execution_count": 55,
   "metadata": {
    "collapsed": false
   },
   "outputs": [
    {
     "ename": "AttributeError",
     "evalue": "'module' object has no attribute 'rndom'",
     "output_type": "error",
     "traceback": [
      "\u001b[0;31m\u001b[0m",
      "\u001b[0;31mAttributeError\u001b[0mTraceback (most recent call last)",
      "\u001b[0;32m<ipython-input-55-e00864d8e305>\u001b[0m in \u001b[0;36m<module>\u001b[0;34m()\u001b[0m\n\u001b[0;32m----> 1\u001b[0;31m \u001b[0mx\u001b[0m \u001b[0;34m=\u001b[0m \u001b[0mnp\u001b[0m\u001b[0;34m.\u001b[0m\u001b[0mrndom\u001b[0m\u001b[0;34m.\u001b[0m\u001b[0mrandn\u001b[0m\u001b[0;34m(\u001b[0m\u001b[0;36m3\u001b[0m\u001b[0;34m,\u001b[0m \u001b[0;36m3\u001b[0m\u001b[0;34m)\u001b[0m\u001b[0;34m\u001b[0m\u001b[0m\n\u001b[0m\u001b[1;32m      2\u001b[0m \u001b[0;32mprint\u001b[0m \u001b[0mx\u001b[0m\u001b[0;34m\u001b[0m\u001b[0m\n\u001b[1;32m      3\u001b[0m \u001b[0;34m\u001b[0m\u001b[0m\n\u001b[1;32m      4\u001b[0m \u001b[0mnp\u001b[0m\u001b[0;34m.\u001b[0m\u001b[0msave\u001b[0m\u001b[0;34m(\u001b[0m\u001b[0;34m'random.npy'\u001b[0m\u001b[0;34m,\u001b[0m \u001b[0mx\u001b[0m\u001b[0;34m)\u001b[0m\u001b[0;34m\u001b[0m\u001b[0m\n",
      "\u001b[0;31mAttributeError\u001b[0m: 'module' object has no attribute 'rndom'"
     ]
    }
   ],
   "source": [
    "x = np.rndom.randn(3, 3)\n",
    "print x\n",
    "\n",
    "np.save('random.npy', x)"
   ]
  },
  {
   "cell_type": "code",
   "execution_count": null,
   "metadata": {
    "collapsed": true
   },
   "outputs": [],
   "source": []
  }
 ],
 "metadata": {
  "kernelspec": {
   "display_name": "Python 2",
   "language": "python",
   "name": "python2"
  },
  "language_info": {
   "codemirror_mode": {
    "name": "ipython",
    "version": 2
   },
   "file_extension": ".py",
   "mimetype": "text/x-python",
   "name": "python",
   "nbconvert_exporter": "python",
   "pygments_lexer": "ipython2",
   "version": "2.7.9"
  }
 },
 "nbformat": 4,
 "nbformat_minor": 2
}
